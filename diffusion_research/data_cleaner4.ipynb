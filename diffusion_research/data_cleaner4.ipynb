{
 "cells": [
  {
   "cell_type": "code",
   "execution_count": null,
   "metadata": {},
   "outputs": [],
   "source": [
    "import pandas as pd\n",
    "import numpy as np\n",
    "from matplotlib import pyplot as plt"
   ]
  },
  {
   "cell_type": "code",
   "execution_count": null,
   "metadata": {},
   "outputs": [],
   "source": [
    "all_queries = pd.read_csv(\"./data/all_queries_8countries.csv\")"
   ]
  },
  {
   "cell_type": "code",
   "execution_count": null,
   "metadata": {},
   "outputs": [],
   "source": [
    "import pandas as pd\n",
    "import numpy as np\n",
    "from collections import defaultdict\n",
    "from sklearn.feature_extraction.text import TfidfVectorizer\n",
    "from sklearn.metrics.pairwise import cosine_similarity\n",
    "\n",
    "common_words_to_exclude = [\"feminism\", \"what\"]\n",
    "\n",
    "def preprocess_text(text):\n",
    "    # Tokenize the text and remove common words to exclude\n",
    "    tokens = [word for word in text.lower().split() if word not in common_words_to_exclude]\n",
    "    return \" \".join(tokens)\n",
    "\n",
    "def calculate_cosine_similarity(query, term, tfidf_vectorizer):\n",
    "    # Transform query and term into TF-IDF vectors\n",
    "    query_vector = tfidf_vectorizer.transform([query])\n",
    "    term_vector = tfidf_vectorizer.transform([term])\n",
    "\n",
    "    # Calculate cosine similarity between query and term vectors\n",
    "    similarity_score = cosine_similarity(query_vector, term_vector)\n",
    "    return similarity_score[0][0]\n",
    "\n",
    "def group_similar_terms(df, threshold=0.5):\n",
    "    term_groups = {col: {} for col in df.columns}\n",
    "\n",
    "    # Create a TF-IDF vectorizer to convert text to numerical vectors\n",
    "    tfidf_vectorizer = TfidfVectorizer()\n",
    "\n",
    "    for col in df.columns:\n",
    "        # Preprocess and fit-transform the text data for the column\n",
    "        text_data = df[col].apply(preprocess_text)\n",
    "        tfidf_matrix = tfidf_vectorizer.fit_transform(text_data)\n",
    "\n",
    "        for query in df[col]:\n",
    "            found_group = None\n",
    "\n",
    "            for group, terms in term_groups[col].items():\n",
    "                for term in terms:\n",
    "                    similarity_score = calculate_cosine_similarity(query, term, tfidf_vectorizer)\n",
    "                    if similarity_score >= threshold:\n",
    "                        found_group = group\n",
    "                        break\n",
    "\n",
    "                if found_group:\n",
    "                    break\n",
    "\n",
    "            if found_group is None:\n",
    "                found_group = f'Group_({query})'\n",
    "                term_groups[col][found_group] = [query]\n",
    "            else:\n",
    "                term_groups[col][found_group].append(query)\n",
    "\n",
    "    grouped_data = {col: [term for group, terms in term_groups[col].items() for term in terms] for col in df.columns}\n",
    "    grouped_df = pd.DataFrame(grouped_data)\n",
    "\n",
    "    return grouped_df\n",
    "\n",
    "def produce_groups(df, threshold=0.5):\n",
    "    term_groups = defaultdict(list)\n",
    "\n",
    "    # Create a TF-IDF vectorizer to convert text to numerical vectors\n",
    "    tfidf_vectorizer = TfidfVectorizer()\n",
    "\n",
    "    for col in df.columns:\n",
    "        # Preprocess and fit-transform the text data for the column\n",
    "        text_data = df[col].apply(preprocess_text)\n",
    "        tfidf_matrix = tfidf_vectorizer.fit_transform(text_data)\n",
    "\n",
    "        for query in df[col]:\n",
    "            found_group = None\n",
    "\n",
    "            for group, terms in term_groups.items():\n",
    "                for term in terms:\n",
    "                    similarity_score = calculate_cosine_similarity(query, term, tfidf_vectorizer)\n",
    "                    if similarity_score >= threshold:\n",
    "                        found_group = group\n",
    "                        break\n",
    "\n",
    "                if found_group:\n",
    "                    break\n",
    "\n",
    "            if found_group is None:\n",
    "                found_group = f'Group_({query})'\n",
    "                term_groups[found_group].append(query)\n",
    "            else:\n",
    "                term_groups[found_group].append(query)\n",
    "\n",
    "    grouped_terms_dict = {group: list(set(terms)) for group, terms in term_groups.items()}\n",
    "\n",
    "    return grouped_terms_dict\n",
    "\n",
    "def group_info(df, threshold=0.5):\n",
    "    grouped_dataframe = group_similar_terms(df, threshold)\n",
    "    groups = produce_groups(df, threshold)\n",
    "    return grouped_dataframe, groups\n",
    "\n",
    "# Example usage:\n",
    "# grouped_all_queries, all_group_dict = group_info(all_queries.iloc[:, 3:], 0.5)\n"
   ]
  },
  {
   "cell_type": "code",
   "execution_count": null,
   "metadata": {},
   "outputs": [],
   "source": [
    "def filtered_unique_counts(df):\n",
    "    val_count1 = pd.value_counts(df.values.flatten())\n",
    "    filtered_val1 = val_count1[(val_count1 > 100) & (val_count1 < 2000)]\n",
    "\n",
    "    return filtered_val1"
   ]
  },
  {
   "cell_type": "code",
   "execution_count": null,
   "metadata": {},
   "outputs": [],
   "source": [
    "grouped_all_queries.to_csv(\"./cleaned_data/grouped_all_queries3.csv\", index = False)"
   ]
  },
  {
   "cell_type": "code",
   "execution_count": null,
   "metadata": {},
   "outputs": [],
   "source": [
    "import json\n",
    "\n",
    "def save_dict_to_json(dictionary, filename):\n",
    "    with open(filename, 'w') as json_file:\n",
    "        json.dump(dictionary, json_file)"
   ]
  },
  {
   "cell_type": "code",
   "execution_count": null,
   "metadata": {},
   "outputs": [],
   "source": [
    "all_group_dict = dict_cleaner(all_group_dict)"
   ]
  },
  {
   "cell_type": "code",
   "execution_count": null,
   "metadata": {},
   "outputs": [],
   "source": [
    "save_dict_to_json(all_group_dict, './cleaned_data/all_group_dict3.json')"
   ]
  },
  {
   "cell_type": "code",
   "execution_count": null,
   "metadata": {},
   "outputs": [],
   "source": [
    "all_group_df = pd.DataFrame(all_group_dict.items(), columns=[\"Grouped Term\", \"Related Queries\"])"
   ]
  },
  {
   "cell_type": "code",
   "execution_count": null,
   "metadata": {},
   "outputs": [],
   "source": [
    "all_group_df.to_csv(\"./cleaned_data/all_group_dictionary3.csv\", index = False)"
   ]
  }
 ],
 "metadata": {
  "language_info": {
   "name": "python"
  },
  "orig_nbformat": 4
 },
 "nbformat": 4,
 "nbformat_minor": 2
}
