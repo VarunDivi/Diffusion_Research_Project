{
 "cells": [
  {
   "cell_type": "code",
   "execution_count": 30,
   "metadata": {},
   "outputs": [],
   "source": [
    "import pandas as pd\n",
    "import numpy as np\n",
    "from fuzzywuzzy import fuzz\n",
    "from matplotlib import pyplot as plt\n",
    "import random\n",
    "import json\n",
    "pd.set_option('display.max_colwidth', None)\n"
   ]
  },
  {
   "cell_type": "markdown",
   "metadata": {},
   "source": [
    "### Loading Raw Data"
   ]
  },
  {
   "cell_type": "code",
   "execution_count": 19,
   "metadata": {},
   "outputs": [],
   "source": [
    "def json_to_dict(json_fp):\n",
    "    with open(json_fp, 'r') as json_file:\n",
    "        data_dict = json.load(json_file)\n",
    "    return data_dict"
   ]
  },
  {
   "cell_type": "code",
   "execution_count": 20,
   "metadata": {},
   "outputs": [],
   "source": [
    "# Original Data\n",
    "rising_queries = pd.read_csv(\"./data/rising_quer_all.csv\")\n",
    "top_queries = pd.read_csv(\"./data/top_quer_all.csv\")\n",
    "\n",
    "# Grouped Data\n",
    "grouped_top_queries = pd.read_csv(\"./cleaned_data/grouped_top_queries.csv\")\n",
    "grouped_rising_queries = pd.read_csv(\"./cleaned_data/grouped_rising_queries.csv\")\n",
    "\n",
    "# Group Dictionaries\n",
    "rising_group_dict = json_to_dict(\"./cleaned_data/rising_group_dict.json\")\n",
    "top_group_dict = json_to_dict(\"./cleaned_data/top_group_dict.json\")"
   ]
  },
  {
   "cell_type": "markdown",
   "metadata": {},
   "source": [
    "### Visualizing Dataframes"
   ]
  },
  {
   "cell_type": "markdown",
   "metadata": {},
   "source": [
    "### Important Functions"
   ]
  },
  {
   "cell_type": "code",
   "execution_count": 6,
   "metadata": {},
   "outputs": [],
   "source": [
    "import pandas as pd\n",
    "\n",
    "def compare_dataframes(df1, df2):\n",
    "    diff_df1_values = []\n",
    "    diff_df2_values = []\n",
    "\n",
    "    if df1.shape != df2.shape:\n",
    "        raise ValueError(\"Different shapes\")\n",
    "\n",
    "    for col in df1.columns:\n",
    "        for i in range(df1.shape[0]):\n",
    "            value1 = df1.loc[i, col]\n",
    "            value2 = df2.loc[i, col]\n",
    "\n",
    "            if((str(value1) != str(\"nan\")) & (str(value2) != str(\"nan\"))):\n",
    "                if value1 != value2:\n",
    "                    diff_df1_values.append(value1)\n",
    "                    diff_df2_values.append(value2)\n",
    "\n",
    "    return diff_df1_values, diff_df2_values\n",
    "\n",
    "# Removes values found in org_list\n",
    "def tool_removal(df, search_terms):\n",
    "    search_terms_upper = [term.capitalize() for term in search_terms]\n",
    "\n",
    "    for col in df.columns:\n",
    "        for i in range(df.shape[0]):\n",
    "            cell_value = str(df.loc[i, col])\n",
    "            if cell_value in search_terms:\n",
    "                df.loc[i, col] = np.nan\n",
    "            elif cell_value in search_terms_upper:\n",
    "                df.loc[i, col] = np.nan\n",
    "\n",
    "# Generates 5 random queries among the original and grouped datasets. \n",
    "def random_viewer(nv, ov):\n",
    "    for i in range(5):\n",
    "        rand_ind = random.randint(0, len(nv))\n",
    "        print(\"New value: \" + nv[rand_ind])\n",
    "        print(\"Old value: \" + ov[rand_ind])\n",
    "        print(\"\")\n",
    "\n",
    "# Produces and counts the uniques\n",
    "def count_uniques(ndf, odf):\n",
    "    print(\"New length: \" + str(len(np.unique(ndf.values.flatten()))))\n",
    "    print(\"Old length: \" + str(len(np.unique(odf.values.flatten()))))"
   ]
  },
  {
   "cell_type": "markdown",
   "metadata": {},
   "source": [
    "### Removing *Search Tools*"
   ]
  },
  {
   "cell_type": "code",
   "execution_count": 8,
   "metadata": {},
   "outputs": [],
   "source": [
    "tool_list = [\"google\", \"facebook\", \"twitter\", \"bing\"]\n",
    "tool_removal(grouped_top_queries, tool_list)\n",
    "tool_removal(grouped_rising_queries, tool_list)"
   ]
  },
  {
   "cell_type": "markdown",
   "metadata": {},
   "source": [
    "### Storing Changed values"
   ]
  },
  {
   "cell_type": "code",
   "execution_count": 9,
   "metadata": {},
   "outputs": [],
   "source": [
    "rising_new_vals, rising_old_vals = compare_dataframes(grouped_rising_queries, rising_queries.iloc[:, 2:])\n",
    "top_new_vals, top_old_vals = compare_dataframes(grouped_top_queries, top_queries.iloc[:, 2:])"
   ]
  },
  {
   "cell_type": "markdown",
   "metadata": {},
   "source": [
    "### Counting Unique Values"
   ]
  },
  {
   "cell_type": "code",
   "execution_count": 33,
   "metadata": {},
   "outputs": [
    {
     "name": "stdout",
     "output_type": "stream",
     "text": [
      "New length: 448\n",
      "Old length: 581\n",
      "\n",
      "New length: 315\n",
      "Old length: 401\n"
     ]
    }
   ],
   "source": [
    "count_uniques(grouped_rising_queries.applymap(str), rising_queries.iloc[:, 2:].applymap(str))\n",
    "print(\"\")\n",
    "count_uniques(grouped_top_queries.applymap(str), top_queries.iloc[:, 2:].applymap(str))"
   ]
  },
  {
   "cell_type": "markdown",
   "metadata": {},
   "source": [
    "### Group Dictionary"
   ]
  },
  {
   "cell_type": "code",
   "execution_count": 58,
   "metadata": {},
   "outputs": [],
   "source": [
    "rising_group_df = pd.DataFrame(rising_group_dict.items(), columns=[\"Grouped Term\", \"Related Queries\"])"
   ]
  },
  {
   "cell_type": "code",
   "execution_count": 57,
   "metadata": {},
   "outputs": [],
   "source": [
    "top_group_df = pd.DataFrame(top_group_dict.items(), columns=[\"Grouped Term\", \"Related Queries\"])"
   ]
  },
  {
   "cell_type": "code",
   "execution_count": 60,
   "metadata": {},
   "outputs": [],
   "source": [
    "rising_group_df.to_csv(\"./cleaned_data/rising_group_dictionary.csv\", index = False)\n",
    "top_group_df.to_csv(\"./cleaned_data/top_group_dictionary.csv\", index = False)"
   ]
  }
 ],
 "metadata": {
  "kernelspec": {
   "display_name": "Python 3",
   "language": "python",
   "name": "python3"
  },
  "language_info": {
   "codemirror_mode": {
    "name": "ipython",
    "version": 3
   },
   "file_extension": ".py",
   "mimetype": "text/x-python",
   "name": "python",
   "nbconvert_exporter": "python",
   "pygments_lexer": "ipython3",
   "version": "3.9.13"
  },
  "orig_nbformat": 4
 },
 "nbformat": 4,
 "nbformat_minor": 2
}
